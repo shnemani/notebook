{
    "cells": [
        {
            "cell_type": "markdown",
            "metadata": {
                "collapsed": true
            },
            "source": "Introduction : \n\n\nRoad traffic injuries are one of the leading cause of death across many countries and are predicted to increase drastcally in the coming years.  An accurate prediction of the severity of accidents can be predicted by analysing factors like weather  conditions, traffic jams , road conditions, vehicles used etc \nThis project will help civic bodies and governments to use their resources effeciently so as to prevent potential accidents. This will save a lot of lives going forward. Also timely warning can be given to all the drivers so that drivers can change the routes accordingly and be more careful. All this can be done much in advance as compared to the current set up\n\nDATA\n\nThe original data for this project comes from the Kaggle data set. \nThe features of the dataset are the following:\n\nCharacteristics dataset features : \n \"lighting\", \"localisation\"(agg), \"type of intersection\", \"atmospheric  conditions\", \"type of collisions\", \"department\", \"adress\", \"time\" and  the coordinates. I added   two new features from this original dataset:  \"date\" and \"weekend\" indicating if the accident occurred during the  weekend or not.\n\nPlaces dataset features: \n \"road  categorie\", \"traffic regime\", \"number of traffic lanes\", \"road profile\",  \"road shape\", \"surface condition\", \"situation\", \"school nearby\" and     \"infrastructure\".\n\nUsers dataset features:\n - total number of users involved in the accident.\n - Wether there are pedestrians involved or not.\n - If there is any user in between 17 and 31 y.o.\n - Maximum gravity suffered by any user involved in the accident\n \n The holiday dataset for a new feature indicating the accident occurred during a holiday."
        },
        {
            "cell_type": "code",
            "execution_count": null,
            "metadata": {},
            "outputs": [],
            "source": ""
        }
    ],
    "metadata": {
        "kernelspec": {
            "display_name": "Python 3.6",
            "language": "python",
            "name": "python3"
        },
        "language_info": {
            "codemirror_mode": {
                "name": "ipython",
                "version": 3
            },
            "file_extension": ".py",
            "mimetype": "text/x-python",
            "name": "python",
            "nbconvert_exporter": "python",
            "pygments_lexer": "ipython3",
            "version": "3.6.9"
        }
    },
    "nbformat": 4,
    "nbformat_minor": 1
}