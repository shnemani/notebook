{
    "cells": [
        {
            "cell_type": "code",
            "execution_count": 4,
            "metadata": {},
            "outputs": [
                {
                    "name": "stdout",
                    "output_type": "stream",
                    "text": "+---------+--------------------+--------------------+----+\n|errorCode|        errorMessage|         errorReason| _c3|\n+---------+--------------------+--------------------+----+\n|      852|You have no mobil...|getRmMobile no mo...|null|\n|        2|Your One-Time PIN...|User in locked st...|null|\n|        3|You have entered ...|     Invalid SMS Otp|null|\n|        4|Your One-Time PIN...|SMS OTP for trans...|null|\n|        5|We are unable to ...|Transaction reque...|null|\n+---------+--------------------+--------------------+----+\nonly showing top 5 rows\n\n"
                },
                {
                    "data": {
                        "text/plain": "configurationName = os_a98dff493add4ef5a026ce7e6425fd79_configs\ncos = com.ibm.ibmos2spark.CloudObjectStorage@f513af6a\nspark = org.apache.spark.sql.SparkSession@b4d4b71a\ndfData1 = [errorCode: int, errorMessage: string ... 2 more fields]\n"
                    },
                    "metadata": {},
                    "output_type": "display_data"
                },
                {
                    "data": {
                        "text/plain": "getCredentials: ()scala.collection.mutable.HashMap[String,String]\n"
                    },
                    "metadata": {},
                    "output_type": "display_data"
                },
                {
                    "data": {
                        "text/plain": "[errorCode: int, errorMessage: string ... 2 more fields]"
                    },
                    "execution_count": 4,
                    "metadata": {},
                    "output_type": "execute_result"
                }
            ],
            "source": "// The code was removed by Watson Studio for sharing."
        }
    ],
    "metadata": {
        "kernelspec": {
            "display_name": "Scala 2.11 with Spark",
            "language": "scala",
            "name": "scala"
        },
        "language_info": {
            "codemirror_mode": "text/x-scala",
            "file_extension": ".scala",
            "mimetype": "text/x-scala",
            "name": "scala",
            "pygments_lexer": "scala",
            "version": "2.11.12"
        }
    },
    "nbformat": 4,
    "nbformat_minor": 1
}